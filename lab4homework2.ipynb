{
  "nbformat": 4,
  "nbformat_minor": 0,
  "metadata": {
    "colab": {
      "name": "lab4homework2.ipynb",
      "provenance": [],
      "collapsed_sections": []
    },
    "kernelspec": {
      "name": "python3",
      "display_name": "Python 3"
    }
  },
  "cells": [
    {
      "cell_type": "code",
      "metadata": {
        "id": "giu-N6n6vvuF",
        "colab_type": "code",
        "colab": {}
      },
      "source": [
        "import os\n",
        "fin='word.txt'\n",
        "cmd='md5sum'+fin\n",
        "fp=os.popen(cmd)\n",
        "res=fp.read()\n",
        "stat=fp.close()\n",
        "print( res)\n",
        "print(stat)"
      ],
      "execution_count": 0,
      "outputs": []
    },
    {
      "cell_type": "code",
      "metadata": {
        "id": "tr1y5moPwUS0",
        "colab_type": "code",
        "colab": {
          "base_uri": "https://localhost:8080/",
          "height": 52
        },
        "outputId": "264b3170-9fcc-478d-c209-b217c5562dda"
      },
      "source": [
        "import os\n",
        "fin='word.txt'\n",
        "f=\"mybook.txt\"\n",
        "\n",
        "def check_diff(name1, name2):\n",
        "\n",
        "    cmd = 'diff %s %s' % (name1, name2)\n",
        "    fp=os.popen(cmd)\n",
        "    res=fp.read()\n",
        "    stat=fp.close()\n",
        "    print( res)\n",
        "    print(stat)\n",
        "check_diff(fin,f)"
      ],
      "execution_count": 9,
      "outputs": [
        {
          "output_type": "stream",
          "text": [
            "\n",
            "512\n"
          ],
          "name": "stdout"
        }
      ]
    }
  ]
}